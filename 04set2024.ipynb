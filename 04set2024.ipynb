{
  "nbformat": 4,
  "nbformat_minor": 0,
  "metadata": {
    "colab": {
      "provenance": [],
      "authorship_tag": "ABX9TyPkWkVlFHB55rk45lbn+4dl",
      "include_colab_link": true
    },
    "kernelspec": {
      "name": "python3",
      "display_name": "Python 3"
    },
    "language_info": {
      "name": "python"
    }
  },
  "cells": [
    {
      "cell_type": "markdown",
      "metadata": {
        "id": "view-in-github",
        "colab_type": "text"
      },
      "source": [
        "<a href=\"https://colab.research.google.com/github/Sousawan/Professormassaki/blob/main/04set2024.ipynb\" target=\"_parent\"><img src=\"https://colab.research.google.com/assets/colab-badge.svg\" alt=\"Open In Colab\"/></a>"
      ]
    },
    {
      "cell_type": "markdown",
      "source": [
        "# **exemplo 2)Conversao polegadas para milimetro**"
      ],
      "metadata": {
        "id": "sa2dr9v3ojVu"
      }
    },
    {
      "cell_type": "code",
      "execution_count": null,
      "metadata": {
        "colab": {
          "base_uri": "https://localhost:8080/"
        },
        "id": "H6k5T9KQoEVl",
        "outputId": "b61d5b9e-0e23-455f-8bd9-26c9a6c057c9"
      },
      "outputs": [
        {
          "output_type": "stream",
          "name": "stdout",
          "text": [
            "Digite a medida em polegadas: 2\n",
            "Valor em mm=  50.8\n"
          ]
        }
      ],
      "source": [
        "polegadas = float(input(\"Digite a medida em polegadas: \"))\n",
        "milimetros = polegadas * 25.4\n",
        "print(\"Valor em mm= \",milimetros)"
      ]
    },
    {
      "cell_type": "markdown",
      "source": [
        "# **Exemplo 5) Calculo de Volume esfera**"
      ],
      "metadata": {
        "id": "nWXiE7OQoztY"
      }
    },
    {
      "cell_type": "code",
      "source": [
        "from math import pi\n",
        "r = float(input(\"Digite o raio: \"))\n",
        "vol =(4/3)*pi*r**3\n",
        "print(vol)"
      ],
      "metadata": {
        "colab": {
          "base_uri": "https://localhost:8080/"
        },
        "id": "oVmZ0hoso3DG",
        "outputId": "266437d5-ba52-4041-ca08-e00bac85bef2"
      },
      "execution_count": null,
      "outputs": [
        {
          "output_type": "stream",
          "name": "stdout",
          "text": [
            "Digite o raio: 10\n",
            "4188.790204786391\n"
          ]
        }
      ]
    },
    {
      "cell_type": "markdown",
      "source": [
        "# **Exemplo 6) Angulo para radianos**"
      ],
      "metadata": {
        "id": "93ygUwePsm8J"
      }
    },
    {
      "cell_type": "code",
      "source": [
        "vgraus = float(input(\"Digite o valor em graus: \"))\n",
        "vrad = (vgraus*pi)/180\n",
        "vrad = vgraus*pi/180\n",
        "print(vrad)"
      ],
      "metadata": {
        "colab": {
          "base_uri": "https://localhost:8080/"
        },
        "id": "024bOELSspWg",
        "outputId": "d85ecd91-848e-418c-ea53-9ce0eab59325"
      },
      "execution_count": null,
      "outputs": [
        {
          "output_type": "stream",
          "name": "stdout",
          "text": [
            "Digite o valor em graus: 2\n",
            "0.03490658503988659\n"
          ]
        }
      ]
    },
    {
      "cell_type": "markdown",
      "source": [
        "# **Exemplo 7) Radianos para graus**"
      ],
      "metadata": {
        "id": "3rwsUqnDt0F5"
      }
    },
    {
      "cell_type": "code",
      "source": [
        "vrad = float(input(\"Digite o valor em radianus: \"))\n",
        "vgraus = (vrad/pi)*180\n",
        "vgraus = vrad*180/pi\n",
        "print(vgraus)"
      ],
      "metadata": {
        "colab": {
          "base_uri": "https://localhost:8080/"
        },
        "id": "Ag_h71jlt2UR",
        "outputId": "7eb949d2-e98f-4f55-ab2d-950070e5060e"
      },
      "execution_count": null,
      "outputs": [
        {
          "output_type": "stream",
          "name": "stdout",
          "text": [
            "Digite o valor em radianus: 2\n",
            "114.59155902616465\n"
          ]
        }
      ]
    },
    {
      "cell_type": "markdown",
      "source": [
        "## **Exemplo 8) Radianos para grados**"
      ],
      "metadata": {
        "id": "ayXbG10Xvwmd"
      }
    },
    {
      "cell_type": "code",
      "source": [
        "rad = float(input(\"Digite o valor em radianus: \"))\n",
        "grados = rad*400/(2*pi)\n",
        "print(grados)"
      ],
      "metadata": {
        "colab": {
          "base_uri": "https://localhost:8080/"
        },
        "id": "O-83dh3ivziO",
        "outputId": "771e95ff-4f3c-4535-b278-d9b7d4e59e8d"
      },
      "execution_count": null,
      "outputs": [
        {
          "output_type": "stream",
          "name": "stdout",
          "text": [
            "Digite o valor em radianus: 6.28\n",
            "399.7972170468411\n"
          ]
        }
      ]
    }
  ]
}