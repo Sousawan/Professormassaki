{
  "nbformat": 4,
  "nbformat_minor": 0,
  "metadata": {
    "colab": {
      "provenance": [],
      "authorship_tag": "ABX9TyPVm5FsWunGoT24hCpDNFC5",
      "include_colab_link": true
    },
    "kernelspec": {
      "name": "python3",
      "display_name": "Python 3"
    },
    "language_info": {
      "name": "python"
    }
  },
  "cells": [
    {
      "cell_type": "markdown",
      "metadata": {
        "id": "view-in-github",
        "colab_type": "text"
      },
      "source": [
        "<a href=\"https://colab.research.google.com/github/Sousawan/Professormassaki/blob/main/primeira%20aula%20.ipynb\" target=\"_parent\"><img src=\"https://colab.research.google.com/assets/colab-badge.svg\" alt=\"Open In Colab\"/></a>"
      ]
    },
    {
      "cell_type": "code",
      "execution_count": null,
      "metadata": {
        "id": "cRDB1A-OnqxG"
      },
      "outputs": [],
      "source": []
    },
    {
      "cell_type": "code",
      "source": [],
      "metadata": {
        "id": "y3iSPTng0q2z"
      },
      "execution_count": null,
      "outputs": []
    },
    {
      "cell_type": "markdown",
      "source": [
        "# **Par ou Impar**"
      ],
      "metadata": {
        "id": "zc7eiBuhn-cC"
      }
    },
    {
      "cell_type": "code",
      "source": [
        "numero = int(input(\"digite um numero inteiro: \"))\n",
        "if numero % 2 == 0:\n",
        " print(f\"o numero {numero} é par.\")\n",
        "else:\n",
        "  print(f\"o numero {numero} é impar.\")"
      ],
      "metadata": {
        "colab": {
          "base_uri": "https://localhost:8080/"
        },
        "id": "qhs-yyOHoCmr",
        "outputId": "793ba153-9bff-4402-cbe6-c049741b2142"
      },
      "execution_count": null,
      "outputs": [
        {
          "output_type": "stream",
          "name": "stdout",
          "text": [
            "digite um numero inteiro: 42\n",
            "o numero 42 é par.\n"
          ]
        }
      ]
    },
    {
      "cell_type": "markdown",
      "source": [],
      "metadata": {
        "id": "8-y_ISDepqGS"
      }
    },
    {
      "cell_type": "code",
      "source": [],
      "metadata": {
        "id": "d1tbrngip4O7"
      },
      "execution_count": null,
      "outputs": []
    },
    {
      "cell_type": "markdown",
      "source": [
        "# **Raiz Quadrada**"
      ],
      "metadata": {
        "id": "ZBoDkAMaqCJe"
      }
    },
    {
      "cell_type": "code",
      "source": [
        "import math\n",
        "numero = float(input(\"digite um numero\"))\n",
        "if numero >= 0:\n",
        "  raiz_quadrada = math.sqrt(numero)\n",
        "  print(f\"a raiz quadrada de {numero} é {raiz_quadrada:.2f}.\")\n",
        "else:\n",
        "  print(\"Não existe raiz real para este numero!\")"
      ],
      "metadata": {
        "colab": {
          "base_uri": "https://localhost:8080/"
        },
        "id": "htdjBaNBqG2f",
        "outputId": "b72b2a03-c7b4-4a8e-d09b-6b882dd23801"
      },
      "execution_count": null,
      "outputs": [
        {
          "output_type": "stream",
          "name": "stdout",
          "text": [
            "digite um numero4\n",
            "a raiz quadrada de 4.0 é 2.00.\n"
          ]
        }
      ]
    },
    {
      "cell_type": "markdown",
      "source": [
        "# **Tamanho da Camiseta**"
      ],
      "metadata": {
        "id": "dPE63erRsm4U"
      }
    },
    {
      "cell_type": "code",
      "source": [
        "comprimento = float(input(\"digite o comprimento da camiseta em centimetros: \"))\n",
        "largura = float(input(\"digite a largura da camiseta em centimetros: \"))\n",
        "if comprimento <= 60 and largura <= 45:\n",
        "  tamanho = \"PP\"\n",
        "elif comprimento <= 65 and largura <= 48:\n",
        "  tamanho = \"P\"\n",
        "elif comprimento <= 70 and largura <= 51:\n",
        "  tamanho = \"M\"\n",
        "elif comprimento <= 75 and largura <= 54:\n",
        "  tamanho = \"G\"\n",
        "elif comprimento <= 80 and largura <= 57:\n",
        "  tamanho = \"GG\"\n",
        "else:\n",
        "  tamanho = \"XGG\"\n",
        "print(f\"o tamanho da camiseta é {tamanho}.\")"
      ],
      "metadata": {
        "colab": {
          "base_uri": "https://localhost:8080/"
        },
        "id": "CATpyw0NsrN-",
        "outputId": "8be3d6d6-33c8-46d0-8350-8fdc40a032f3"
      },
      "execution_count": null,
      "outputs": [
        {
          "output_type": "stream",
          "name": "stdout",
          "text": [
            "digite o comprimento da camiseta em centimetros: 10\n",
            "digite a largura da camiseta em centimetros: 5\n",
            "o tamanho da camiseta é PP.\n"
          ]
        }
      ]
    }
  ]
}