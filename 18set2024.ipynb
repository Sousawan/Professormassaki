{
  "nbformat": 4,
  "nbformat_minor": 0,
  "metadata": {
    "colab": {
      "provenance": [],
      "authorship_tag": "ABX9TyPXphviSAFrlieh7CawyN/V",
      "include_colab_link": true
    },
    "kernelspec": {
      "name": "python3",
      "display_name": "Python 3"
    },
    "language_info": {
      "name": "python"
    }
  },
  "cells": [
    {
      "cell_type": "markdown",
      "metadata": {
        "id": "view-in-github",
        "colab_type": "text"
      },
      "source": [
        "<a href=\"https://colab.research.google.com/github/Sousawan/Professormassaki/blob/main/18set2024.ipynb\" target=\"_parent\"><img src=\"https://colab.research.google.com/assets/colab-badge.svg\" alt=\"Open In Colab\"/></a>"
      ]
    },
    {
      "cell_type": "markdown",
      "source": [
        "# **Multiplo de 3**"
      ],
      "metadata": {
        "id": "5pE5fmiSzGmi"
      }
    },
    {
      "cell_type": "code",
      "execution_count": 1,
      "metadata": {
        "colab": {
          "base_uri": "https://localhost:8080/"
        },
        "id": "pvrNBfKTkPrn",
        "outputId": "3ba2fc33-7b4f-4610-980b-cd5a4dfbef68"
      },
      "outputs": [
        {
          "output_type": "stream",
          "name": "stdout",
          "text": [
            "Digite um numero inteiro: 999\n",
            "Multiplo\n"
          ]
        }
      ],
      "source": [
        "numero = int(input(\"Digite um numero inteiro: \"))\n",
        "if numero % 3 == 0:\n",
        "  print(\"Multiplo\")\n",
        "else:\n",
        "  print(\"Não multiplo\")"
      ]
    },
    {
      "cell_type": "markdown",
      "source": [
        "# **Média aluno**"
      ],
      "metadata": {
        "id": "C2B_STztzMUw"
      }
    },
    {
      "cell_type": "code",
      "source": [
        "nota1 = float(input(\"Digite a nota: \"))\n",
        "nota2 = float(input(\"Digite a nota: \"))\n",
        "m = (2*nota1 + 3*nota2)/(2+3)\n",
        "if m >= 5:\n",
        "  print(\"Aprovado\")\n",
        "else:\n",
        "  print(\"Reprovado\")"
      ],
      "metadata": {
        "colab": {
          "base_uri": "https://localhost:8080/"
        },
        "id": "C1fWT98UzPVH",
        "outputId": "c41c901a-2fee-4701-97eb-187edcfd912c"
      },
      "execution_count": 2,
      "outputs": [
        {
          "output_type": "stream",
          "name": "stdout",
          "text": [
            "Digite a nota: 10\n",
            "Digite a nota: 10\n",
            "Aprovado\n"
          ]
        }
      ]
    },
    {
      "cell_type": "markdown",
      "source": [
        "# **Ler valores**"
      ],
      "metadata": {
        "id": "gHJ25I8RzRpZ"
      }
    },
    {
      "cell_type": "code",
      "source": [
        "a = float(input(\"Digite o primeiro valor: \"))\n",
        "b = float(input(\"Digite o segundo valor: \"))\n",
        "c = float(input(\"Digite o terceiro valor: \"))\n",
        "if a<=b and a<=c:\n",
        "  menor = a\n",
        "elif b<=a and b<=c:\n",
        "  menor = b\n",
        "else:\n",
        "  menor = c\n",
        "print(menor)"
      ],
      "metadata": {
        "colab": {
          "base_uri": "https://localhost:8080/"
        },
        "id": "N3qcnjK4zT8p",
        "outputId": "b9cb171d-d033-482c-a9d0-a667fd1c30cc"
      },
      "execution_count": 3,
      "outputs": [
        {
          "output_type": "stream",
          "name": "stdout",
          "text": [
            "Digite o primeiro valor: 1\n",
            "Digite o segundo valor: 2\n",
            "Digite o terceiro valor: 3\n",
            "1.0\n"
          ]
        }
      ]
    }
  ]
}