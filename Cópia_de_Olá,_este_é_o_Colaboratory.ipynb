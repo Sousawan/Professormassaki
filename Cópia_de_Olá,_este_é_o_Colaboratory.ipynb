{
  "cells": [
    {
      "cell_type": "markdown",
      "metadata": {
        "id": "view-in-github",
        "colab_type": "text"
      },
      "source": [
        "<a href=\"https://colab.research.google.com/github/Sousawan/Professormassaki/blob/main/C%C3%B3pia_de_Ol%C3%A1%2C_este_%C3%A9_o_Colaboratory.ipynb\" target=\"_parent\"><img src=\"https://colab.research.google.com/assets/colab-badge.svg\" alt=\"Open In Colab\"/></a>"
      ]
    },
    {
      "cell_type": "markdown",
      "source": [
        "# **Celsius para Fahrenheit**"
      ],
      "metadata": {
        "id": "XSRVU9SYS5UY"
      }
    },
    {
      "cell_type": "code",
      "source": [
        "C = float(input(\"Digite a temperatura em graus Celsius: \"))\n",
        "F = (9/5) * C + 32\n",
        "print(\"A temperatura em graus Fahrenheit é:\", F)"
      ],
      "metadata": {
        "colab": {
          "base_uri": "https://localhost:8080/"
        },
        "id": "s-yei30YS2Op",
        "outputId": "a9a30e72-1b8d-492d-bde7-a7afc040accd"
      },
      "execution_count": null,
      "outputs": [
        {
          "output_type": "stream",
          "name": "stdout",
          "text": [
            "Digite a temperatura em graus Celsius: 50\n",
            "A temperatura em graus Fahrenheit é: 122.0\n"
          ]
        }
      ]
    }
  ],
  "metadata": {
    "colab": {
      "provenance": [],
      "include_colab_link": true
    },
    "kernelspec": {
      "display_name": "Python 3",
      "name": "python3"
    }
  },
  "nbformat": 4,
  "nbformat_minor": 0
}