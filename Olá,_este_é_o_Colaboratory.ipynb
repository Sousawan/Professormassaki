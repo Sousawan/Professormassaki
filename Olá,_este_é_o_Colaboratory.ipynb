{
  "cells": [
    {
      "cell_type": "markdown",
      "metadata": {
        "id": "view-in-github",
        "colab_type": "text"
      },
      "source": [
        "<a href=\"https://colab.research.google.com/github/Sousawan/Professormassaki/blob/main/Ol%C3%A1%2C_este_%C3%A9_o_Colaboratory.ipynb\" target=\"_parent\"><img src=\"https://colab.research.google.com/assets/colab-badge.svg\" alt=\"Open In Colab\"/></a>"
      ]
    },
    {
      "cell_type": "markdown",
      "source": [
        "1- Podemos observar que o erro é cometido pelo programador na linha que calcula a temperatura em Fahrenheit  F= (9/5*C) + '32' .  Variável F foi declarada como caracter, enquanto deveria ser número, o valor ‘32’ está entre aspas então ele é tratado como uma string e não como um numero .\n",
        "O meu comando correto é:  \n",
        "C = float(input(\"Digite a temperatura em graus Celsius: \"))\n",
        "F = (9/5) * C + 32\n",
        "print(\"A temperatura em graus Fahrenheit é:\", F)\n",
        "Aplicando no colab fica:  \n",
        "\n",
        "2- As três formas de representar um algoritmo em linguagem de programação são:\n",
        "Código fonte\n",
        "Fluxograma\n",
        "Pseudocódigo\n",
        "Exemplo de pseudocódigo:\n",
        "Leia (x,y) {Esta linha é um comentário}\n",
        "Se x > y então\n",
        "      Escreva (“x é maior”)\n",
        "Senão\n",
        "Se y > x então\n",
        "       Escreva (“y é maior”)\n",
        "Senão\n",
        "      Escreva (“x e Y são iguais”)\n",
        "Fim\n",
        "\n",
        "3- Int: são números inteiros, ou seja, números sem parte decimal. Float: são números racionais, que podem ter parte decimal. Str: são sequências de caracteres, ou seja, textos. Bool: são valores lógicos, que podem ser verdadeiro (true) ou falso (false)."
      ],
      "metadata": {
        "id": "6OfIlsszFdbW"
      }
    },
    {
      "cell_type": "code",
      "source": [
        "C = float(input(\"Digite a temperatura em graus Celsius: \"))\n",
        "F = (9/5) * C + 32\n",
        "print(\"A temperatura em graus Fahrenheit é:\", F)"
      ],
      "metadata": {
        "id": "7L2XmzOCFgmX",
        "outputId": "7c3d20ff-62aa-485d-acd1-7405e64caf86",
        "colab": {
          "base_uri": "https://localhost:8080/"
        }
      },
      "execution_count": 2,
      "outputs": [
        {
          "output_type": "stream",
          "name": "stdout",
          "text": [
            "Digite a temperatura em graus Celsius: 50\n",
            "A temperatura em graus Fahrenheit é: 122.0\n"
          ]
        }
      ]
    }
  ],
  "metadata": {
    "colab": {
      "name": "Olá, este é o Colaboratory",
      "toc_visible": true,
      "provenance": [],
      "include_colab_link": true
    },
    "kernelspec": {
      "display_name": "Python 3",
      "name": "python3"
    }
  },
  "nbformat": 4,
  "nbformat_minor": 0
}